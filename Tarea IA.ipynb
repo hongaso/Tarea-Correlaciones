{
 "cells": [
  {
   "cell_type": "code",
   "execution_count": 6,
   "id": "6fe1fe59",
   "metadata": {
    "ExecuteTime": {
     "end_time": "2022-03-17T15:12:47.431146Z",
     "start_time": "2022-03-17T15:12:47.420152Z"
    }
   },
   "outputs": [],
   "source": [
    "import pandas as pd\n",
    "import matplotlib.pyplot as plt\n",
    "import seaborn as sns"
   ]
  },
  {
   "cell_type": "code",
   "execution_count": 2,
   "id": "501c84f5",
   "metadata": {
    "ExecuteTime": {
     "end_time": "2022-03-17T15:10:17.453939Z",
     "start_time": "2022-03-17T15:10:17.259892Z"
    }
   },
   "outputs": [],
   "source": [
    "wh2018 = pd.read_csv(\"2018.csv\")"
   ]
  },
  {
   "cell_type": "code",
   "execution_count": 17,
   "id": "9e4af73f",
   "metadata": {
    "ExecuteTime": {
     "end_time": "2022-03-17T15:32:54.857842Z",
     "start_time": "2022-03-17T15:32:54.804870Z"
    }
   },
   "outputs": [
    {
     "data": {
      "text/html": [
       "<div>\n",
       "<style scoped>\n",
       "    .dataframe tbody tr th:only-of-type {\n",
       "        vertical-align: middle;\n",
       "    }\n",
       "\n",
       "    .dataframe tbody tr th {\n",
       "        vertical-align: top;\n",
       "    }\n",
       "\n",
       "    .dataframe thead th {\n",
       "        text-align: right;\n",
       "    }\n",
       "</style>\n",
       "<table border=\"1\" class=\"dataframe\">\n",
       "  <thead>\n",
       "    <tr style=\"text-align: right;\">\n",
       "      <th></th>\n",
       "      <th>Overall rank</th>\n",
       "      <th>Country or region</th>\n",
       "      <th>Score</th>\n",
       "      <th>GDP per capita</th>\n",
       "      <th>Social support</th>\n",
       "      <th>Healthy life expectancy</th>\n",
       "      <th>Freedom to make life choices</th>\n",
       "      <th>Generosity</th>\n",
       "      <th>Perceptions of corruption</th>\n",
       "    </tr>\n",
       "  </thead>\n",
       "  <tbody>\n",
       "    <tr>\n",
       "      <th>0</th>\n",
       "      <td>1</td>\n",
       "      <td>Finland</td>\n",
       "      <td>7.632</td>\n",
       "      <td>1.305</td>\n",
       "      <td>1.592</td>\n",
       "      <td>0.874</td>\n",
       "      <td>0.681</td>\n",
       "      <td>0.202</td>\n",
       "      <td>0.393</td>\n",
       "    </tr>\n",
       "    <tr>\n",
       "      <th>1</th>\n",
       "      <td>2</td>\n",
       "      <td>Norway</td>\n",
       "      <td>7.594</td>\n",
       "      <td>1.456</td>\n",
       "      <td>1.582</td>\n",
       "      <td>0.861</td>\n",
       "      <td>0.686</td>\n",
       "      <td>0.286</td>\n",
       "      <td>0.340</td>\n",
       "    </tr>\n",
       "    <tr>\n",
       "      <th>2</th>\n",
       "      <td>3</td>\n",
       "      <td>Denmark</td>\n",
       "      <td>7.555</td>\n",
       "      <td>1.351</td>\n",
       "      <td>1.590</td>\n",
       "      <td>0.868</td>\n",
       "      <td>0.683</td>\n",
       "      <td>0.284</td>\n",
       "      <td>0.408</td>\n",
       "    </tr>\n",
       "    <tr>\n",
       "      <th>3</th>\n",
       "      <td>4</td>\n",
       "      <td>Iceland</td>\n",
       "      <td>7.495</td>\n",
       "      <td>1.343</td>\n",
       "      <td>1.644</td>\n",
       "      <td>0.914</td>\n",
       "      <td>0.677</td>\n",
       "      <td>0.353</td>\n",
       "      <td>0.138</td>\n",
       "    </tr>\n",
       "    <tr>\n",
       "      <th>4</th>\n",
       "      <td>5</td>\n",
       "      <td>Switzerland</td>\n",
       "      <td>7.487</td>\n",
       "      <td>1.420</td>\n",
       "      <td>1.549</td>\n",
       "      <td>0.927</td>\n",
       "      <td>0.660</td>\n",
       "      <td>0.256</td>\n",
       "      <td>0.357</td>\n",
       "    </tr>\n",
       "    <tr>\n",
       "      <th>...</th>\n",
       "      <td>...</td>\n",
       "      <td>...</td>\n",
       "      <td>...</td>\n",
       "      <td>...</td>\n",
       "      <td>...</td>\n",
       "      <td>...</td>\n",
       "      <td>...</td>\n",
       "      <td>...</td>\n",
       "      <td>...</td>\n",
       "    </tr>\n",
       "    <tr>\n",
       "      <th>151</th>\n",
       "      <td>152</td>\n",
       "      <td>Yemen</td>\n",
       "      <td>3.355</td>\n",
       "      <td>0.442</td>\n",
       "      <td>1.073</td>\n",
       "      <td>0.343</td>\n",
       "      <td>0.244</td>\n",
       "      <td>0.083</td>\n",
       "      <td>0.064</td>\n",
       "    </tr>\n",
       "    <tr>\n",
       "      <th>152</th>\n",
       "      <td>153</td>\n",
       "      <td>Tanzania</td>\n",
       "      <td>3.303</td>\n",
       "      <td>0.455</td>\n",
       "      <td>0.991</td>\n",
       "      <td>0.381</td>\n",
       "      <td>0.481</td>\n",
       "      <td>0.270</td>\n",
       "      <td>0.097</td>\n",
       "    </tr>\n",
       "    <tr>\n",
       "      <th>153</th>\n",
       "      <td>154</td>\n",
       "      <td>South Sudan</td>\n",
       "      <td>3.254</td>\n",
       "      <td>0.337</td>\n",
       "      <td>0.608</td>\n",
       "      <td>0.177</td>\n",
       "      <td>0.112</td>\n",
       "      <td>0.224</td>\n",
       "      <td>0.106</td>\n",
       "    </tr>\n",
       "    <tr>\n",
       "      <th>154</th>\n",
       "      <td>155</td>\n",
       "      <td>Central African Republic</td>\n",
       "      <td>3.083</td>\n",
       "      <td>0.024</td>\n",
       "      <td>0.000</td>\n",
       "      <td>0.010</td>\n",
       "      <td>0.305</td>\n",
       "      <td>0.218</td>\n",
       "      <td>0.038</td>\n",
       "    </tr>\n",
       "    <tr>\n",
       "      <th>155</th>\n",
       "      <td>156</td>\n",
       "      <td>Burundi</td>\n",
       "      <td>2.905</td>\n",
       "      <td>0.091</td>\n",
       "      <td>0.627</td>\n",
       "      <td>0.145</td>\n",
       "      <td>0.065</td>\n",
       "      <td>0.149</td>\n",
       "      <td>0.076</td>\n",
       "    </tr>\n",
       "  </tbody>\n",
       "</table>\n",
       "<p>156 rows × 9 columns</p>\n",
       "</div>"
      ],
      "text/plain": [
       "     Overall rank         Country or region  Score  GDP per capita  \\\n",
       "0               1                   Finland  7.632           1.305   \n",
       "1               2                    Norway  7.594           1.456   \n",
       "2               3                   Denmark  7.555           1.351   \n",
       "3               4                   Iceland  7.495           1.343   \n",
       "4               5               Switzerland  7.487           1.420   \n",
       "..            ...                       ...    ...             ...   \n",
       "151           152                     Yemen  3.355           0.442   \n",
       "152           153                  Tanzania  3.303           0.455   \n",
       "153           154               South Sudan  3.254           0.337   \n",
       "154           155  Central African Republic  3.083           0.024   \n",
       "155           156                   Burundi  2.905           0.091   \n",
       "\n",
       "     Social support  Healthy life expectancy  Freedom to make life choices  \\\n",
       "0             1.592                    0.874                         0.681   \n",
       "1             1.582                    0.861                         0.686   \n",
       "2             1.590                    0.868                         0.683   \n",
       "3             1.644                    0.914                         0.677   \n",
       "4             1.549                    0.927                         0.660   \n",
       "..              ...                      ...                           ...   \n",
       "151           1.073                    0.343                         0.244   \n",
       "152           0.991                    0.381                         0.481   \n",
       "153           0.608                    0.177                         0.112   \n",
       "154           0.000                    0.010                         0.305   \n",
       "155           0.627                    0.145                         0.065   \n",
       "\n",
       "     Generosity  Perceptions of corruption  \n",
       "0         0.202                      0.393  \n",
       "1         0.286                      0.340  \n",
       "2         0.284                      0.408  \n",
       "3         0.353                      0.138  \n",
       "4         0.256                      0.357  \n",
       "..          ...                        ...  \n",
       "151       0.083                      0.064  \n",
       "152       0.270                      0.097  \n",
       "153       0.224                      0.106  \n",
       "154       0.218                      0.038  \n",
       "155       0.149                      0.076  \n",
       "\n",
       "[156 rows x 9 columns]"
      ]
     },
     "execution_count": 17,
     "metadata": {},
     "output_type": "execute_result"
    }
   ],
   "source": [
    "wh2018"
   ]
  },
  {
   "cell_type": "code",
   "execution_count": 18,
   "id": "67908dc5",
   "metadata": {
    "ExecuteTime": {
     "end_time": "2022-03-17T15:32:57.683827Z",
     "start_time": "2022-03-17T15:32:57.673831Z"
    }
   },
   "outputs": [],
   "source": [
    "corr_df = wh2018.corr()"
   ]
  },
  {
   "cell_type": "code",
   "execution_count": 20,
   "id": "bf7b6705",
   "metadata": {
    "ExecuteTime": {
     "end_time": "2022-03-17T15:36:32.964629Z",
     "start_time": "2022-03-17T15:36:32.936649Z"
    },
    "scrolled": true
   },
   "outputs": [
    {
     "data": {
      "text/html": [
       "<div>\n",
       "<style scoped>\n",
       "    .dataframe tbody tr th:only-of-type {\n",
       "        vertical-align: middle;\n",
       "    }\n",
       "\n",
       "    .dataframe tbody tr th {\n",
       "        vertical-align: top;\n",
       "    }\n",
       "\n",
       "    .dataframe thead th {\n",
       "        text-align: right;\n",
       "    }\n",
       "</style>\n",
       "<table border=\"1\" class=\"dataframe\">\n",
       "  <thead>\n",
       "    <tr style=\"text-align: right;\">\n",
       "      <th></th>\n",
       "      <th>Overall rank</th>\n",
       "      <th>Score</th>\n",
       "      <th>GDP per capita</th>\n",
       "      <th>Social support</th>\n",
       "      <th>Healthy life expectancy</th>\n",
       "      <th>Freedom to make life choices</th>\n",
       "      <th>Generosity</th>\n",
       "      <th>Perceptions of corruption</th>\n",
       "    </tr>\n",
       "  </thead>\n",
       "  <tbody>\n",
       "    <tr>\n",
       "      <th>Overall rank</th>\n",
       "      <td>1.000000</td>\n",
       "      <td>-0.991749</td>\n",
       "      <td>-0.805897</td>\n",
       "      <td>-0.737500</td>\n",
       "      <td>-0.778700</td>\n",
       "      <td>-0.530786</td>\n",
       "      <td>-0.103602</td>\n",
       "      <td>-0.371133</td>\n",
       "    </tr>\n",
       "    <tr>\n",
       "      <th>Score</th>\n",
       "      <td>-0.991749</td>\n",
       "      <td>1.000000</td>\n",
       "      <td>0.802124</td>\n",
       "      <td>0.745760</td>\n",
       "      <td>0.775814</td>\n",
       "      <td>0.544280</td>\n",
       "      <td>0.135825</td>\n",
       "      <td>0.405292</td>\n",
       "    </tr>\n",
       "    <tr>\n",
       "      <th>GDP per capita</th>\n",
       "      <td>-0.805897</td>\n",
       "      <td>0.802124</td>\n",
       "      <td>1.000000</td>\n",
       "      <td>0.672080</td>\n",
       "      <td>0.844273</td>\n",
       "      <td>0.332275</td>\n",
       "      <td>-0.011241</td>\n",
       "      <td>0.319582</td>\n",
       "    </tr>\n",
       "    <tr>\n",
       "      <th>Social support</th>\n",
       "      <td>-0.737500</td>\n",
       "      <td>0.745760</td>\n",
       "      <td>0.672080</td>\n",
       "      <td>1.000000</td>\n",
       "      <td>0.667288</td>\n",
       "      <td>0.411087</td>\n",
       "      <td>0.018226</td>\n",
       "      <td>0.218364</td>\n",
       "    </tr>\n",
       "    <tr>\n",
       "      <th>Healthy life expectancy</th>\n",
       "      <td>-0.778700</td>\n",
       "      <td>0.775814</td>\n",
       "      <td>0.844273</td>\n",
       "      <td>0.667288</td>\n",
       "      <td>1.000000</td>\n",
       "      <td>0.355475</td>\n",
       "      <td>0.020751</td>\n",
       "      <td>0.315569</td>\n",
       "    </tr>\n",
       "    <tr>\n",
       "      <th>Freedom to make life choices</th>\n",
       "      <td>-0.530786</td>\n",
       "      <td>0.544280</td>\n",
       "      <td>0.332275</td>\n",
       "      <td>0.411087</td>\n",
       "      <td>0.355475</td>\n",
       "      <td>1.000000</td>\n",
       "      <td>0.297988</td>\n",
       "      <td>0.462446</td>\n",
       "    </tr>\n",
       "    <tr>\n",
       "      <th>Generosity</th>\n",
       "      <td>-0.103602</td>\n",
       "      <td>0.135825</td>\n",
       "      <td>-0.011241</td>\n",
       "      <td>0.018226</td>\n",
       "      <td>0.020751</td>\n",
       "      <td>0.297988</td>\n",
       "      <td>1.000000</td>\n",
       "      <td>0.362249</td>\n",
       "    </tr>\n",
       "    <tr>\n",
       "      <th>Perceptions of corruption</th>\n",
       "      <td>-0.371133</td>\n",
       "      <td>0.405292</td>\n",
       "      <td>0.319582</td>\n",
       "      <td>0.218364</td>\n",
       "      <td>0.315569</td>\n",
       "      <td>0.462446</td>\n",
       "      <td>0.362249</td>\n",
       "      <td>1.000000</td>\n",
       "    </tr>\n",
       "  </tbody>\n",
       "</table>\n",
       "</div>"
      ],
      "text/plain": [
       "                              Overall rank     Score  GDP per capita  \\\n",
       "Overall rank                      1.000000 -0.991749       -0.805897   \n",
       "Score                            -0.991749  1.000000        0.802124   \n",
       "GDP per capita                   -0.805897  0.802124        1.000000   \n",
       "Social support                   -0.737500  0.745760        0.672080   \n",
       "Healthy life expectancy          -0.778700  0.775814        0.844273   \n",
       "Freedom to make life choices     -0.530786  0.544280        0.332275   \n",
       "Generosity                       -0.103602  0.135825       -0.011241   \n",
       "Perceptions of corruption        -0.371133  0.405292        0.319582   \n",
       "\n",
       "                              Social support  Healthy life expectancy  \\\n",
       "Overall rank                       -0.737500                -0.778700   \n",
       "Score                               0.745760                 0.775814   \n",
       "GDP per capita                      0.672080                 0.844273   \n",
       "Social support                      1.000000                 0.667288   \n",
       "Healthy life expectancy             0.667288                 1.000000   \n",
       "Freedom to make life choices        0.411087                 0.355475   \n",
       "Generosity                          0.018226                 0.020751   \n",
       "Perceptions of corruption           0.218364                 0.315569   \n",
       "\n",
       "                              Freedom to make life choices  Generosity  \\\n",
       "Overall rank                                     -0.530786   -0.103602   \n",
       "Score                                             0.544280    0.135825   \n",
       "GDP per capita                                    0.332275   -0.011241   \n",
       "Social support                                    0.411087    0.018226   \n",
       "Healthy life expectancy                           0.355475    0.020751   \n",
       "Freedom to make life choices                      1.000000    0.297988   \n",
       "Generosity                                        0.297988    1.000000   \n",
       "Perceptions of corruption                         0.462446    0.362249   \n",
       "\n",
       "                              Perceptions of corruption  \n",
       "Overall rank                                  -0.371133  \n",
       "Score                                          0.405292  \n",
       "GDP per capita                                 0.319582  \n",
       "Social support                                 0.218364  \n",
       "Healthy life expectancy                        0.315569  \n",
       "Freedom to make life choices                   0.462446  \n",
       "Generosity                                     0.362249  \n",
       "Perceptions of corruption                      1.000000  "
      ]
     },
     "execution_count": 20,
     "metadata": {},
     "output_type": "execute_result"
    }
   ],
   "source": [
    "corr_df"
   ]
  },
  {
   "cell_type": "code",
   "execution_count": 19,
   "id": "6a319ea2",
   "metadata": {
    "ExecuteTime": {
     "end_time": "2022-03-17T15:33:00.614959Z",
     "start_time": "2022-03-17T15:32:59.907394Z"
    }
   },
   "outputs": [
    {
     "data": {
      "image/png": "[encoded data removed]",
      "text/plain": [
       "<Figure size 576x432 with 2 Axes>"
      ]
     },
     "metadata": {
      "needs_background": "light"
     },
     "output_type": "display_data"
    }
   ],
   "source": [
    "plt.figure(figsize=(8,6))\n",
    "sns.heatmap(corr_df, annot=True)\n",
    "plt.show()"
   ]
  },
  {
   "cell_type": "code",
   "execution_count": 23,
   "id": "47ed34ce",
   "metadata": {
    "ExecuteTime": {
     "end_time": "2022-03-17T15:43:38.675221Z",
     "start_time": "2022-03-17T15:43:38.461354Z"
    }
   },
   "outputs": [
    {
     "data": {
      "text/plain": [
       "Text(0.5, 0, 'Social support')"
      ]
     },
     "execution_count": 23,
     "metadata": {},
     "output_type": "execute_result"
    },
    {
     "data": {
      "image/png": "[encoded data removed]",
      "text/plain": [
       "<Figure size 432x288 with 1 Axes>"
      ]
     },
     "metadata": {
      "needs_background": "light"
     },
     "output_type": "display_data"
    }
   ],
   "source": [
    "plt.plot(corr_df[\"Social support\"], corr_df[\"Generosity\"], \"ro\")\n",
    "plt.ylabel(\"Generosity\")\n",
    "plt.xlabel(\"Social support\")"
   ]
  },
  {
   "cell_type": "code",
   "execution_count": 24,
   "id": "a6c5d1b5",
   "metadata": {
    "ExecuteTime": {
     "end_time": "2022-03-17T16:03:14.176846Z",
     "start_time": "2022-03-17T16:03:13.940991Z"
    }
   },
   "outputs": [
    {
     "data": {
      "text/plain": [
       "Text(0.5, 0, 'Overall rank')"
      ]
     },
     "execution_count": 24,
     "metadata": {},
     "output_type": "execute_result"
    },
    {
     "data": {
      "image/png": "[encoded data removed]",
      "text/plain": [
       "<Figure size 432x288 with 1 Axes>"
      ]
     },
     "metadata": {
      "needs_background": "light"
     },
     "output_type": "display_data"
    }
   ],
   "source": [
    "plt.plot(corr_df[\"Overall rank\"], corr_df[\"Generosity\"], \"ro\")\n",
    "plt.ylabel(\"Generosity\")\n",
    "plt.xlabel(\"Overall rank\")"
   ]
  },
  {
   "cell_type": "code",
   "execution_count": 25,
   "id": "b59dd485",
   "metadata": {
    "ExecuteTime": {
     "end_time": "2022-03-17T16:03:37.382708Z",
     "start_time": "2022-03-17T16:03:37.140858Z"
    }
   },
   "outputs": [
    {
     "data": {
      "text/plain": [
       "Text(0.5, 0, 'Overall rank')"
      ]
     },
     "execution_count": 25,
     "metadata": {},
     "output_type": "execute_result"
    },
    {
     "data": {
      "image/png": "[encoded data removed]",
      "text/plain": [
       "<Figure size 432x288 with 1 Axes>"
      ]
     },
     "metadata": {
      "needs_background": "light"
     },
     "output_type": "display_data"
    }
   ],
   "source": [
    "plt.plot(corr_df[\"Overall rank\"], corr_df[\"Score\"], \"ro\")\n",
    "plt.ylabel(\"Score\")\n",
    "plt.xlabel(\"Overall rank\")"
   ]
  },
  {
   "cell_type": "code",
   "execution_count": 26,
   "id": "dc304f45",
   "metadata": {
    "ExecuteTime": {
     "end_time": "2022-03-17T16:04:41.510627Z",
     "start_time": "2022-03-17T16:04:41.275771Z"
    }
   },
   "outputs": [
    {
     "data": {
      "text/plain": [
       "Text(0.5, 0, 'Score')"
      ]
     },
     "execution_count": 26,
     "metadata": {},
     "output_type": "execute_result"
    },
    {
     "data": {
      "image/png": "[encoded data removed]",
      "text/plain": [
       "<Figure size 432x288 with 1 Axes>"
      ]
     },
     "metadata": {
      "needs_background": "light"
     },
     "output_type": "display_data"
    }
   ],
   "source": [
    "plt.plot(corr_df[\"Score\"], corr_df[\"GDP per capita\"], \"ro\")\n",
    "plt.ylabel(\"GDP per capita\")\n",
    "plt.xlabel(\"Score\")"
   ]
  },
  {
   "cell_type": "markdown",
   "id": "40c24fbc",
   "metadata": {},
   "source": [
    "# Correlaciones\n",
    "1. si tomamos en cuenta como variables el Social support y Generosity vemos que tenemos una correlacion positiva y que mientras mayor sea el apoyo social que reciban mas generosos sera\n",
    "2. si tomamos en cuenta como variables Overall rank y Generosity podemos concluir que mientras mas generosos sean mejor rankeados estaran\n",
    "3. si tomamos en cuenta como variables Score y Overall rank podemos concluir que mientras el score sea mas alto mas bajo sera el rank\n",
    "4. si tomamos en cuenta como variables Score y GDP per capita podemos concluir que mientras mas alto sea el GDP percapita mas alto sera el Score"
   ]
  },
  {
   "cell_type": "markdown",
   "id": "f31bac9d",
   "metadata": {},
   "source": [
    "# Causalidad\n",
    "1. mientras mas corrupcion haya menos generosidad habra, causa = corrupcion efecto = menor generosidad\n",
    "2. mientras mas corrupcion haya menor sera el apoyo seocial causa = corrupcion efecto = menor apoyo social\n",
    "3. mientras mas corrupcion haya menor sera rango general causa = corrupcion efecto = indices mas bajo de rango"
   ]
  },
  {
   "cell_type": "code",
   "execution_count": null,
   "id": "a39a30ae",
   "metadata": {},
   "outputs": [],
   "source": []
  }
 ],
 "metadata": {
  "kernelspec": {
   "display_name": "Python 3 (ipykernel)",
   "language": "python",
   "name": "python3"
  },
  "language_info": {
   "codemirror_mode": {
    "name": "ipython",
    "version": 3
   },
   "file_extension": ".py",
   "mimetype": "text/x-python",
   "name": "python",
   "nbconvert_exporter": "python",
   "pygments_lexer": "ipython3",
   "version": "3.9.7"
  },
  "toc": {
   "base_numbering": 1,
   "nav_menu": {},
   "number_sections": true,
   "sideBar": true,
   "skip_h1_title": false,
   "title_cell": "Table of Contents",
   "title_sidebar": "Contents",
   "toc_cell": false,
   "toc_position": {},
   "toc_section_display": true,
   "toc_window_display": false
  }
 },
 "nbformat": 4,
 "nbformat_minor": 5
}
